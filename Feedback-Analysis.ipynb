{
 "cells": [
  {
   "cell_type": "code",
   "execution_count": 1,
   "id": "4abaac63",
   "metadata": {},
   "outputs": [],
   "source": [
    "# Importing necessary libraries for analysis\n",
    "import pandas as pd\n",
    "import matplotlib.pyplot as plt\n",
    "import seaborn as sns\n",
    "import datetime"
   ]
  },
  {
   "cell_type": "code",
   "execution_count": null,
   "id": "f110fd63",
   "metadata": {},
   "outputs": [],
   "source": [
    "\"\"\"\n",
    "college_event_feedback_analysis.py\n",
    "\n",
    "Project:\n",
    "Analyze feedback from college events (tech fests, workshops, cultural activities)\n",
    "to identify satisfaction patterns and improvement areas.\n",
    "\n",
    "Tasks:\n",
    "1. Clean and prepare data\n",
    "2. Analyze ratings (1–5 scale) for patterns of satisfaction\n",
    "3. NLP sentiment analysis on comments\n",
    "4. Top 3 events with highest satisfaction\n",
    "5. Most common complaints from comments (via word cloud)\n",
    "6. Correlation between ratings and event type (workshop vs seminar)\n",
    "7. Departments hosting most-liked events\n",
    "8. Visualizations of trends\n",
    "\"\"\""
   ]
  },
  {
   "cell_type": "code",
   "execution_count": 10,
   "id": "ab5248f3",
   "metadata": {},
   "outputs": [
    {
     "name": "stdout",
     "output_type": "stream",
     "text": [
      "\n",
      "Data Preview:\n",
      "   SN  Total Feedback Given  Total Configured  \\\n",
      "0   1                     1                12   \n",
      "1   2                     1                12   \n",
      "2   3                     1                12   \n",
      "3   4                     1                12   \n",
      "4   5                     1                12   \n",
      "\n",
      "                                           Questions  Weightage 1  \\\n",
      "0  How much of the syllabus was covered in the cl...            0   \n",
      "1  How well did the teachers prepare for the clas...            0   \n",
      "2    How well were the teachers able to communicate?            0   \n",
      "3  The teachers approach to teaching can best be...            0   \n",
      "4  Fairness of the internal evaluation process by...            0   \n",
      "\n",
      "   Weightage 2  Weightage 3  Weightage 4  Weightage 5 Average/ Percentage  \\\n",
      "0            0            1            0            0        3.00 / 60.00   \n",
      "1            0            0            0            1       5.00 / 100.00   \n",
      "2            0            0            0            1       5.00 / 100.00   \n",
      "3            0            1            0            0        3.00 / 60.00   \n",
      "4            0            0            1            0        4.00 / 80.00   \n",
      "\n",
      "               Course Name            Basic Course  \n",
      "0  FY B.VOC FOOD TECHNOLOGY  B.VOC FOOD TECHNOLOGY  \n",
      "1  FY B.VOC FOOD TECHNOLOGY  B.VOC FOOD TECHNOLOGY  \n",
      "2  FY B.VOC FOOD TECHNOLOGY  B.VOC FOOD TECHNOLOGY  \n",
      "3  FY B.VOC FOOD TECHNOLOGY  B.VOC FOOD TECHNOLOGY  \n",
      "4  FY B.VOC FOOD TECHNOLOGY  B.VOC FOOD TECHNOLOGY  \n",
      "Index(['Sn', 'Total Feedback Given', 'Total Configured', 'Questions',\n",
      "       'Weightage 1', 'Weightage 2', 'Weightage 3', 'Weightage 4',\n",
      "       'Weightage 5', 'Average/ Percentage', 'Course Name', 'Basic Course'],\n",
      "      dtype='object')\n"
     ]
    }
   ],
   "source": [
    "# Getting the data for analysis\n",
    "data = pd.read_csv(r'D:\\Data Journey\\Future Interns\\Task 3\\Student_Satisfaction_Survey.csv', encoding='ISO-8859-1')\n",
    "\n",
    "print(\"\\nData Preview:\")\n",
    "print(data.head())\n",
    "\n",
    "# Standardize column names\n",
    "data.columns = [col.strip().title() for col in data.columns]\n",
    "print(data.columns)"
   ]
  },
  {
   "cell_type": "code",
   "execution_count": null,
   "id": "1cbd54c5",
   "metadata": {},
   "outputs": [
    {
     "name": "stdout",
     "output_type": "stream",
     "text": [
      "\n",
      "Missing Values Before Cleaning:\n",
      "Sn                      0\n",
      "Total Feedback Given    0\n",
      "Total Configured        0\n",
      "Questions               0\n",
      "Weightage 1             0\n",
      "Weightage 2             0\n",
      "Weightage 3             0\n",
      "Weightage 4             0\n",
      "Weightage 5             0\n",
      "Average/ Percentage     0\n",
      "Course Name             0\n",
      "Basic Course            0\n",
      "dtype: int64\n",
      "Sn                       int64\n",
      "Total Feedback Given     int64\n",
      "Total Configured         int64\n",
      "Questions               object\n",
      "Weightage 1              int64\n",
      "Weightage 2              int64\n",
      "Weightage 3              int64\n",
      "Weightage 4              int64\n",
      "Weightage 5              int64\n",
      "Average/ Percentage     object\n",
      "Course Name             object\n",
      "Basic Course            object\n",
      "dtype: object\n",
      "\n",
      " Number of Duplicated Columns:  0\n",
      "0\n"
     ]
    }
   ],
   "source": [
    "# Basic EDA\n",
    "\n",
    "# Check for missing values\n",
    "print(\"\\nMissing Values Before Cleaning:\")\n",
    "print(data.isnull().sum()) # No value is missing\n",
    "\n",
    "# Understanding the data types\n",
    "print(data.dtypes) \n",
    "\n",
    "# Number of duplicated columns\n",
    "print('\\n Number of Duplicated Columns:', data.duplicated().sum()) # No duplicated columns\n"
   ]
  }
 ],
 "metadata": {
  "kernelspec": {
   "display_name": "Python (Arewadatascience)",
   "language": "python",
   "name": "arewadatascience"
  },
  "language_info": {
   "codemirror_mode": {
    "name": "ipython",
    "version": 3
   },
   "file_extension": ".py",
   "mimetype": "text/x-python",
   "name": "python",
   "nbconvert_exporter": "python",
   "pygments_lexer": "ipython3",
   "version": "3.12.7"
  }
 },
 "nbformat": 4,
 "nbformat_minor": 5
}
